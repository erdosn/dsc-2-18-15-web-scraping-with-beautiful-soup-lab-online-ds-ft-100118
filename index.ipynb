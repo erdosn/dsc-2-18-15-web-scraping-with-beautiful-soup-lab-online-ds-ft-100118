{
 "cells": [
  {
   "cell_type": "markdown",
   "metadata": {},
   "source": [
    "# Web Scraping with Beautiful Soup - Lab"
   ]
  },
  {
   "cell_type": "markdown",
   "metadata": {},
   "source": [
    "## Introduction\n",
    "\n",
    "Now that you've read and seen some docmentation regarding the use of Beautiful Soup, its time to practice and put that to work! In this lab you'll formalize some of our example code into functions and scrape the lyrics from an artist of your choice."
   ]
  },
  {
   "cell_type": "markdown",
   "metadata": {},
   "source": [
    "## Objectives\n",
    "You will be able to:\n",
    "* Scrape Static webpages\n",
    "* Select specific elements from the DOM"
   ]
  },
  {
   "cell_type": "markdown",
   "metadata": {},
   "source": [
    "## Link Scraping\n",
    "\n",
    "Write a function to collect the links to each of the song pages from a given artist page."
   ]
  },
  {
   "cell_type": "code",
   "execution_count": null,
   "metadata": {},
   "outputs": [],
   "source": [
    "#Starter Code\n",
    "\n",
    "from bs4 import BeautifulSoup\n",
    "import requests\n",
    "\n",
    "\n",
    "url = 'https://www.azlyrics.com/e/elliphant.html' #Put the URL of your AZLyrics Artist Page here!"
   ]
  },
  {
   "cell_type": "code",
   "execution_count": 9,
   "metadata": {},
   "outputs": [
    {
     "data": {
      "text/plain": [
       "[('Down On Life',\n",
       "  '../lyrics/elliphant/downonlife.html',\n",
       "  'EP: \"Elliphant\" (2012)'),\n",
       " ('Tekkno Scene',\n",
       "  '../lyrics/elliphant/tekknoscene.html',\n",
       "  'EP: \"Elliphant\" (2012)')]"
      ]
     },
     "execution_count": 9,
     "metadata": {},
     "output_type": "execute_result"
    }
   ],
   "source": [
    "html_page = requests.get(url) #Make a get request to retrieve the page\n",
    "soup = BeautifulSoup(html_page.content, 'html.parser') #Pass the page contents to beautiful soup for parsing\n",
    "\n",
    "\n",
    "#The example from our lecture/reading\n",
    "data = [] #Create a storage container\n",
    "for album_n in range(len(albums)):\n",
    "    #On the last album, we won't be able to look forward\n",
    "    if album_n == len(albums)-1:\n",
    "        cur_album = albums[album_n]\n",
    "        album_songs = cur_album.findNextSiblings('a')\n",
    "        for song in album_songs:\n",
    "            page = song.get('href')\n",
    "            title = song.text\n",
    "            album = cur_album.text\n",
    "            data.append((title, page, album))\n",
    "    else:\n",
    "        cur_album = albums[album_n]\n",
    "        next_album = albums[album_n+1]\n",
    "        saca = cur_album.findNextSiblings('a') #songs after current album\n",
    "        sbna = next_album.findPreviousSiblings('a') #songs before next album\n",
    "        album_songs = [song for song in saca if song in sbna] #album songs are those listed after the current album but before the next one!\n",
    "        for song in album_songs:\n",
    "            page = song.get('href')\n",
    "            title = song.text\n",
    "            album = cur_album.text\n",
    "            data.append((title, page, album))\n",
    "data[:2]"
   ]
  },
  {
   "cell_type": "markdown",
   "metadata": {},
   "source": [
    "## Text Scraping\n",
    "Write a secondary function that scrapes the lyrics for each song page."
   ]
  },
  {
   "cell_type": "code",
   "execution_count": 4,
   "metadata": {},
   "outputs": [
    {
     "data": {
      "text/plain": [
       "'<!DOCTYPE html>\\n<html lang=\"en\">\\n <head>\\n  <meta charset=\"utf-8\"/>\\n  <meta content=\"IE=edge\" http-equiv=\"X-UA-Compatible\"/>\\n  <meta content=\"width=device-width, initial-scale=1\" name=\"viewport\"/>\\n  <!-- The above 3 meta tags *must* come first in the head; any other head content must come *after* these tags -->\\n  <meta content=\\'Elliphant lyrics - 46 song lyrics sorted by album, including \"Only Getting Younger\", \"All Or Nothing\", \"Could It Be\".\\' name=\"description\"/>\\n  <meta content=\"Elliphant, Elliphant lyrics, discography, albums, songs\" name=\"keywords\"/>\\n  <meta content=\"noarchive\" name=\"robots\"/>\\n  <title>\\n   Elliphant Lyrics\\n  </title>\\n  <link href=\"https://maxcdn.bootstrapcdn.com/bootstrap/3.3.4/css/bootstrap.min.css\" rel=\"stylesheet\"/>\\n  <link href=\"//www.azlyrics.com/bsaz.css\" rel=\"stylesheet\"/>\\n  <!-- HTML5 shim and Respond.js for IE8 support of HTML5 elements and media queries -->\\n  <!--[if lt IE 9]>\\r\\n<script src=\"https://oss.maxcdn.com/html5shiv/3.7.2/html5shiv.min.js\"></script'"
      ]
     },
     "execution_count": 4,
     "metadata": {},
     "output_type": "execute_result"
    }
   ],
   "source": [
    "#Remember to open up the webpage in a browser and control-click/right-click and go to inspect!\n",
    "from bs4 import BeautifulSoup\n",
    "import requests\n",
    "\n",
    "#Example page\n",
    "url = 'https://www.azlyrics.com/e/elliphant.html'\n",
    "\n",
    "\n",
    "html_page = requests.get(url)\n",
    "soup = BeautifulSoup(html_page.content, 'html.parser')\n",
    "soup.prettify()[:1000]"
   ]
  },
  {
   "cell_type": "code",
   "execution_count": 7,
   "metadata": {},
   "outputs": [],
   "source": [
    "albums = soup.find_all(\"div\", class_=\"album\")"
   ]
  },
  {
   "cell_type": "code",
   "execution_count": 8,
   "metadata": {},
   "outputs": [
    {
     "data": {
      "text/plain": [
       "[<div class=\"album\">EP: <b>\"Elliphant\"</b> (2012)</div>,\n",
       " <div class=\"album\">album: <b>\"A Good Idea\"</b> (2013)</div>,\n",
       " <div class=\"album\">EP: <b>\"Look Like You Love It\"</b> (2014)</div>,\n",
       " <div class=\"album\">EP: <b>\"One More\"</b> (2014)</div>,\n",
       " <div class=\"album\">album: <b>\"Living Life Golden\"</b> (2016)</div>,\n",
       " <div class=\"album\">other songs:</div>]"
      ]
     },
     "execution_count": 8,
     "metadata": {},
     "output_type": "execute_result"
    }
   ],
   "source": [
    "albums"
   ]
  },
  {
   "cell_type": "markdown",
   "metadata": {},
   "source": [
    "## Synthesizing\n",
    "Create a script using your two functions above to scrape all of the song lyrics for a given artist.\n"
   ]
  },
  {
   "cell_type": "code",
   "execution_count": 23,
   "metadata": {},
   "outputs": [
    {
     "name": "stdout",
     "output_type": "stream",
     "text": [
      "('', None, 'EP: \"Elliphant\" (2012)')\n",
      "('', None, 'album: \"A Good Idea\" (2013)')\n",
      "('', None, 'EP: \"Look Like You Love It\" (2014)')\n",
      "('', None, 'EP: \"One More\" (2014)')\n"
     ]
    }
   ],
   "source": [
    "#Use this block for your code!\n",
    "song_urls = []\n",
    "for link in data:\n",
    "    try:\n",
    "        url_song = 'https://www.azlyrics.com'+link[1][2:]\n",
    "        song_urls.append(url_song)\n",
    "    except:\n",
    "        print(link)"
   ]
  },
  {
   "cell_type": "code",
   "execution_count": 61,
   "metadata": {},
   "outputs": [
    {
     "name": "stdout",
     "output_type": "stream",
     "text": [
      "https://www.azlyrics.com/lyrics/elliphant/downonlife.html\n",
      "<meta content='Lyrics to \"Down On Life\" song by Elliphant: We are waking up in a pile of shit The whole bay is full of it And eggs keep growing out of our ears...' name=\"description\"/>\n",
      "\n",
      "\n",
      "\n",
      "https://www.azlyrics.com/lyrics/elliphant/tekknoscene.html\n",
      "<meta content='Lyrics to \"Tekkno Scene\" song by Elliphant: Said this could be a Color crusher Color rusher Touch this tune see See me sala Bim bim be Flush thi...' name=\"description\"/>\n",
      "\n",
      "\n",
      "\n",
      "https://www.azlyrics.com/lyrics/elliphant/makeitjuicy.html\n",
      "<meta content='Lyrics to \"Make It Juicy\" song by Elliphant: Come here Lucifer the sober soul me offer Run down pop gonâ all cracky color Come, come, come here c...' name=\"description\"/>\n",
      "\n",
      "\n",
      "\n",
      "https://www.azlyrics.com/lyrics/elliphant/inthejungle.html\n",
      "<meta content='Lyrics to \"In The Jungle\" song by Elliphant: Sick a in the jungle back to instinct back to Basic a runk a back to basic instinct cashing life in...' name=\"description\"/>\n",
      "\n",
      "\n",
      "\n",
      "https://www.azlyrics.com/lyrics/elliphant/cianthearit.html\n",
      "<meta content=\"Lyrics to &quot;Ciant Hear It&quot; song by Elliphant: Ciant hear it A dripping spirit coming up Coming from the deep he's coming closer don't stop One mo...\" name=\"description\"/>\n",
      "\n",
      "\n",
      "\n",
      "https://www.azlyrics.com/lyrics/elliphant/cianthearitjungleremix.html\n",
      "<meta content=\"Lyrics to &quot;Ciant Hear It (Jungle Remix)&quot; song by Elliphant: A dripping spirit coming up Coming from the deep he's coming closer don't stop One more day after th...\" name=\"description\"/>\n",
      "\n",
      "\n",
      "\n",
      "https://www.azlyrics.com/lyrics/elliphant/downonlife.html\n",
      "<meta content='Lyrics to \"Down On Life\" song by Elliphant: We are waking up in a pile of shit The whole bay is full of it And eggs keep growing out of our ears...' name=\"description\"/>\n",
      "\n",
      "\n",
      "\n",
      "https://www.azlyrics.com/lyrics/elliphant/downonlife.html\n",
      "<meta content='Lyrics to \"Down On Life\" song by Elliphant: We are waking up in a pile of shit The whole bay is full of it And eggs keep growing out of our ears...' name=\"description\"/>\n",
      "\n",
      "\n",
      "\n",
      "https://www.azlyrics.com/lyrics/elliphant/musicislife.html\n",
      "<meta content='Lyrics to \"Music Is Life\" song by Elliphant: Music is life, life, life, life Come again E-e-elliphant Holla at me hater Imma holla back See me c...' name=\"description\"/>\n",
      "\n",
      "\n",
      "\n",
      "https://www.azlyrics.com/lyrics/elliphant/livetillidie.html\n",
      "<meta content='Lyrics to \"Live Till I Die\" song by Elliphant: Let go, all you propha cool People, drop your mask evend Your seakhole, set your blood flow in Moseo...' name=\"description\"/>\n",
      "\n",
      "\n",
      "\n",
      "https://www.azlyrics.com/lyrics/elliphant/coulditbe.html\n",
      "<meta content='Lyrics to \"Could It Be\" song by Elliphant: Somethingâs been growing In my kitchen I been scared for weeks Something make noises I canât sleep m...' name=\"description\"/>\n",
      "\n",
      "\n",
      "\n",
      "https://www.azlyrics.com/lyrics/elliphant/whereismymamaat.html\n",
      "<meta content=\"Lyrics to &quot;Where Is My Mama At&quot; song by Elliphant: Where is my mama at I need my baseball bat I need the baseball bat Don't forget, how easy you forget...\" name=\"description\"/>\n",
      "\n",
      "\n",
      "\n",
      "https://www.azlyrics.com/lyrics/elliphant/shootmedown.html\n",
      "<meta content=\"Lyrics to &quot;Shoot Me Down&quot; song by Elliphant: I need a surprise If you a freak it would be nice Shut up or be a liar Don't care 'bout your name th...\" name=\"description\"/>\n",
      "\n",
      "\n",
      "\n",
      "https://www.azlyrics.com/lyrics/elliphant/toiletlineromance.html\n",
      "<meta content='Lyrics to \"Toilet Line Romance\" song by Elliphant: Said Iâm a sucker of it na cook a rock You lucky son of a sun and moon fuck I run down rivers wild o...' name=\"description\"/>\n",
      "\n",
      "\n",
      "\n",
      "https://www.azlyrics.com/lyrics/elliphant/downonlife.html\n",
      "<meta content='Lyrics to \"Down On Life\" song by Elliphant: We are waking up in a pile of shit The whole bay is full of it And eggs keep growing out of our ears...' name=\"description\"/>\n",
      "\n",
      "\n",
      "\n",
      "https://www.azlyrics.com/lyrics/elliphant/runfar.html\n",
      "<meta content='Lyrics to \"Run Far\" song by Elliphant: I really just wanna get the hell out of the fucking place Haha! Zip it, zip it, zip it God damn this...' name=\"description\"/>\n",
      "\n",
      "\n",
      "\n",
      "https://www.azlyrics.com/lyrics/elliphant/morefire.html\n",
      "<meta content='Lyrics to \"More Fire\" song by Elliphant: Can I, can I, can I talk right now Na missy busy jumping, busy jumping around Missy breaking down, b...' name=\"description\"/>\n",
      "\n",
      "\n",
      "\n",
      "https://www.azlyrics.com/lyrics/elliphant/boomyourhead.html\n",
      "<meta content='Lyrics to \"Boom Your Head\" song by Elliphant: Boom your head up Boom boom boom your head up Boom your head up May be bit hairy and my boobs air...' name=\"description\"/>\n",
      "\n",
      "\n",
      "\n",
      "https://www.azlyrics.com/lyrics/elliphant/painttheworld.html\n",
      "<meta content='Lyrics to \"Paint The World\" song by Elliphant: It was a sunny Afternoon you confronted me It was a sunny, a sunny Sunday I had a feeling you go som...' name=\"description\"/>\n",
      "\n",
      "\n",
      "\n",
      "https://www.azlyrics.com/lyrics/elliphant/wantit.html\n",
      "<meta content='Lyrics to \"Want It\" song by Elliphant: Got some funky functions worth mention, man Got that thick feeling no more lonesome Come with good c...' name=\"description\"/>\n",
      "\n",
      "\n",
      "\n",
      "https://www.azlyrics.com/lyrics/elliphant/pacman.html\n",
      "<meta content='Lyrics to \"Pac Man\" song by Elliphant: (Jungle) Love Love, love Gotta lay low but hold you high Feet on the ground nose dip in the sky I...' name=\"description\"/>\n",
      "\n",
      "\n",
      "\n",
      "https://www.azlyrics.com/lyrics/elliphant/pompom.html\n",
      "<meta content='Lyrics to \"Pom Pom\" song by Elliphant: Life is, coming in, was here, very fast to be passing, constantly changing, but it was here, to bloo...' name=\"description\"/>\n",
      "\n",
      "\n",
      "\n",
      "https://www.azlyrics.com/lyrics/elliphant/downonlife.html\n",
      "<meta content='Lyrics to \"Down On Life\" song by Elliphant: We are waking up in a pile of shit The whole bay is full of it And eggs keep growing out of our ears...' name=\"description\"/>\n",
      "\n",
      "\n",
      "\n",
      "https://www.azlyrics.com/lyrics/elliphant/looklikeyouloveit.html\n",
      "<meta content=\"Lyrics to &quot;Look Like You Love It&quot; song by Elliphant: Bring it up, me can't hear it A call full of full of blasta, we gon' share it Run for life, you can...\" name=\"description\"/>\n",
      "\n",
      "\n",
      "\n",
      "https://www.azlyrics.com/lyrics/elliphant/allornothing.html\n",
      "<meta content='Lyrics to \"All Or Nothing\" song by Elliphant: See me sadness, when me love Let me quire in me work Feel me love and want me bitch Pull me switch,...' name=\"description\"/>\n",
      "\n",
      "\n",
      "\n",
      "https://www.azlyrics.com/lyrics/elliphant/revolusion.html\n",
      "<meta content=\"Lyrics to &quot;Revolusion&quot; song by Elliphant: My surroundings taint my brain I'm just a city kid who fought a lot Just one distraction will show t...\" name=\"description\"/>\n",
      "\n",
      "\n",
      "\n",
      "https://www.azlyrics.com/lyrics/elliphant/everything4u.html\n",
      "<meta content=\"Lyrics to &quot;Everything 4 U&quot; song by Elliphant: I'm a gazelle and you're a lion I heard the bells but I ignored them What could be worth more Than t...\" name=\"description\"/>\n",
      "\n",
      "\n",
      "\n",
      "https://www.azlyrics.com/lyrics/elliphant/onlygettingyounger.html\n",
      "<meta content=\"Lyrics to &quot;Only Getting Younger&quot; song by Elliphant: Why your skin go wrinkle we only getting younger We ride into a peek we can't take this shit no long...\" name=\"description\"/>\n",
      "\n",
      "\n",
      "\n",
      "https://www.azlyrics.com/lyrics/elliphant/bootykillah.html\n",
      "<meta content=\"Lyrics to &quot;Booty Killah&quot; song by Elliphant: I give you tender fun, a natural and high Hear 'em talkin', &quot;What? And what's them rumours about?&quot; C...\" name=\"description\"/>\n",
      "\n",
      "\n",
      "\n",
      "https://www.azlyrics.com/lyrics/elliphant/downonlife.html\n",
      "<meta content='Lyrics to \"Down On Life\" song by Elliphant: We are waking up in a pile of shit The whole bay is full of it And eggs keep growing out of our ears...' name=\"description\"/>\n",
      "\n",
      "\n",
      "\n",
      "https://www.azlyrics.com/lyrics/elliphant/onemore.html\n",
      "<meta content=\"Lyrics to &quot;One More&quot; song by Elliphant: Come on na sugar, come I really don't wanna go home Stay with me, be a friend These streets so cold...\" name=\"description\"/>\n",
      "\n",
      "\n",
      "\n",
      "https://www.azlyrics.com/lyrics/elliphant/purplelight.html\n",
      "<meta content='Lyrics to \"Purple Light\" song by Elliphant: Reaching up, for the glass Come on na, fill it up Been empty for some time, come on fill me up Crack...' name=\"description\"/>\n",
      "\n",
      "\n",
      "\n",
      "https://www.azlyrics.com/lyrics/elliphant/neverbeeninlove.html\n",
      "<meta content=\"Lyrics to &quot;Never Been In Love&quot; song by Elliphant: Summer's gone and I am broke man And my bills don't wait Mommy's angry, club is all dead I'm born...\" name=\"description\"/>\n",
      "\n",
      "\n",
      "\n",
      "https://www.azlyrics.com/lyrics/elliphant/savethegrey.html\n"
     ]
    },
    {
     "name": "stdout",
     "output_type": "stream",
     "text": [
      "<meta content=\"Lyrics to &quot;Save The Grey&quot; song by Elliphant: Man is my dirty and each made clean, STG Look into the eyes of them we pee sincere, STG Mama's not f...\" name=\"description\"/>\n",
      "\n",
      "\n",
      "\n",
      "https://www.azlyrics.com/lyrics/elliphant/youregone.html\n",
      "<meta content=\"Lyrics to &quot;You're Gone&quot; song by Elliphant: Who's gonna make sure mind is not dirty then Who's gonna help me get my shit back when I'm shit face...\" name=\"description\"/>\n",
      "\n",
      "\n",
      "\n",
      "https://www.azlyrics.com/lyrics/elliphant/onemore.html\n",
      "<meta content=\"Lyrics to &quot;One More&quot; song by Elliphant: Come on na sugar, come I really don't wanna go home Stay with me, be a friend These streets so cold...\" name=\"description\"/>\n",
      "\n",
      "\n",
      "\n",
      "https://www.azlyrics.com/lyrics/elliphant/stepdown.html\n",
      "<meta content=\"Lyrics to &quot;Step Down&quot; song by Elliphant: I'm home, home alone I call, call again you not answering And I know You couldn't, you wouldn't dare...\" name=\"description\"/>\n",
      "\n",
      "\n",
      "\n",
      "https://www.azlyrics.com/lyrics/elliphant/everybody.html\n",
      "<meta content='Lyrics to \"Everybody\" song by Elliphant: Everybody got a nine Everybody is a bad boy now Everybody wanna shine Everybody drink your champagne...' name=\"description\"/>\n",
      "\n",
      "\n",
      "\n",
      "https://www.azlyrics.com/lyrics/elliphant/lovemebadder.html\n",
      "<meta content=\"Lyrics to &quot;Love Me Badder&quot; song by Elliphant: My pillow smells like your cologne I just can't wait 'til you get home (ra-ah) You gangsta ways turn...\" name=\"description\"/>\n",
      "\n",
      "\n",
      "\n",
      "https://www.azlyrics.com/lyrics/elliphant/notready.html\n",
      "<meta content='Lyrics to \"Not Ready\" song by Elliphant: We broke this open we shared the blisset things We saw too much now we see nothing You filled me emp...' name=\"description\"/>\n",
      "\n",
      "\n",
      "\n",
      "https://www.azlyrics.com/lyrics/elliphant/lovemelong.html\n",
      "<meta content='Lyrics to \"Love Me Long\" song by Elliphant: People on the street Used to be you and me One bullet in your gun Put it on you and me (Yeah, yeah,...' name=\"description\"/>\n",
      "\n",
      "\n",
      "\n",
      "https://www.azlyrics.com/lyrics/elliphant/hitandrun.html\n",
      "<meta content=\"Lyrics to &quot;Hit And Run&quot; song by Elliphant: Everything feel different now Home is gone I can't find it now Kept it all in the inside now Next to...\" name=\"description\"/>\n",
      "\n",
      "\n",
      "\n",
      "https://www.azlyrics.com/lyrics/elliphant/thingcalledlife.html\n",
      "<meta content=\"Lyrics to &quot;Thing Called Life&quot; song by Elliphant: It's not hard to see What time done to you It's okay to me What time make you do It's about the tim...\" name=\"description\"/>\n",
      "\n",
      "\n",
      "\n",
      "https://www.azlyrics.com/lyrics/elliphant/whereishome.html\n",
      "<meta content=\"Lyrics to &quot;Where Is Home&quot; song by Elliphant: When the way come you know we can't stay And then is calling out for me And you flashes pink and li...\" name=\"description\"/>\n",
      "\n",
      "\n",
      "\n",
      "https://www.azlyrics.com/lyrics/elliphant/onemore.html\n",
      "<meta content=\"Lyrics to &quot;One More&quot; song by Elliphant: Come on na sugar, come I really don't wanna go home Stay with me, be a friend These streets so cold...\" name=\"description\"/>\n",
      "\n",
      "\n",
      "\n",
      "https://www.azlyrics.com/lyrics/elliphant/playerrun.html\n",
      "<meta content='Lyrics to \"Player Run\" song by Elliphant: Coming home from duty, I need, I need a break This been so and I feel so low Calling up for the cit...' name=\"description\"/>\n",
      "\n",
      "\n",
      "\n",
      "https://www.azlyrics.com/lyrics/elliphant/spoonme.html\n",
      "<meta content='Lyrics to \"Spoon Me\" song by Elliphant: Sipping bad habits in the break of day Trip on fast lovers like come get with me Looking damn hard t...' name=\"description\"/>\n",
      "\n",
      "\n",
      "\n",
      "https://www.azlyrics.com/lyrics/elliphant/livinglifegolden.html\n",
      "<meta content=\"Lyrics to &quot;Living Life Golden&quot; song by Elliphant: We fly in space, one numbers Leaving no trace, my hair a billion wonders Now I'm riding away, the m...\" name=\"description\"/>\n",
      "\n",
      "\n",
      "\n",
      "https://www.azlyrics.com/lyrics/elliphant/bitchout.html\n",
      "<meta content='Lyrics to \"Bitch Out\" song by Elliphant: Letâs make another random track na Zip it Yeah yeah Yeah I come around look dope Yeah you come aro...' name=\"description\"/>\n",
      "\n",
      "\n",
      "\n",
      "https://www.azlyrics.com/lyrics/elliphant/northstarbloodychristmas.html\n",
      "<meta content=\"Lyrics to &quot;North Star (Bloody Christmas)&quot; song by Elliphant: Mmm Bloody Christmas, happy drunker Shattered wishes, I'm glad we meet again Lonely white stream, em...\" name=\"description\"/>\n",
      "\n",
      "\n",
      "\n"
     ]
    }
   ],
   "source": [
    "import xml.etree.ElementTree as ET\n",
    "for song_url in song_urls:\n",
    "    print(song_url)\n",
    "    r = requests.get(song_url)\n",
    "    song_soup = BeautifulSoup(r.text, 'html.parser')\n",
    "    print(str(song_soup.find_all(\"meta\",attrs={\"name\":\"description\"})[0]))\n",
    "    print(\"\\n\\n\")"
   ]
  },
  {
   "cell_type": "code",
   "execution_count": null,
   "metadata": {},
   "outputs": [],
   "source": []
  },
  {
   "cell_type": "markdown",
   "metadata": {},
   "source": [
    "## Visualizing\n",
    "Generate two bar graphs to compare lyrical changes for the artist of your chose. For example, the two bar charts could compare the lyrics for two different songs or two different albums."
   ]
  },
  {
   "cell_type": "code",
   "execution_count": null,
   "metadata": {},
   "outputs": [],
   "source": [
    "#Use this block for your code!"
   ]
  },
  {
   "cell_type": "markdown",
   "metadata": {},
   "source": [
    "## Level - Up\n",
    "\n",
    "Think about how you structured the data from your web scraper. Did you scrape the entire song lyrics verbatim? Did you simply store the words and their frequency counts, or did you do something else entirely? List out a few different options for how you could have stored this data. What are advantages and disadvantages of each? Be specific and think about what sort of analyses each representation would lend itself to."
   ]
  },
  {
   "cell_type": "code",
   "execution_count": null,
   "metadata": {},
   "outputs": [],
   "source": [
    "#Use this block for your code!"
   ]
  },
  {
   "cell_type": "markdown",
   "metadata": {},
   "source": [
    "## Summary"
   ]
  },
  {
   "cell_type": "markdown",
   "metadata": {},
   "source": [
    "Congratulations! You've now practiced your Beautiful Soup knowledge!"
   ]
  }
 ],
 "metadata": {
  "kernelspec": {
   "display_name": "Python 3",
   "language": "python",
   "name": "python3"
  },
  "language_info": {
   "codemirror_mode": {
    "name": "ipython",
    "version": 3
   },
   "file_extension": ".py",
   "mimetype": "text/x-python",
   "name": "python",
   "nbconvert_exporter": "python",
   "pygments_lexer": "ipython3",
   "version": "3.6.5"
  }
 },
 "nbformat": 4,
 "nbformat_minor": 2
}
